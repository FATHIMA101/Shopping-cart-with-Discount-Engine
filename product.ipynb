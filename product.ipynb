{
  "nbformat": 4,
  "nbformat_minor": 0,
  "metadata": {
    "colab": {
      "provenance": [],
      "authorship_tag": "ABX9TyN7330LhGtYE9jBX3R2Zyoq",
      "include_colab_link": true
    },
    "kernelspec": {
      "name": "python3",
      "display_name": "Python 3"
    },
    "language_info": {
      "name": "python"
    }
  },
  "cells": [
    {
      "cell_type": "markdown",
      "metadata": {
        "id": "view-in-github",
        "colab_type": "text"
      },
      "source": [
        "<a href=\"https://colab.research.google.com/github/FATHIMA101/screening_task/blob/main/product.ipynb\" target=\"_parent\"><img src=\"https://colab.research.google.com/assets/colab-badge.svg\" alt=\"Open In Colab\"/></a>"
      ]
    },
    {
      "cell_type": "code",
      "execution_count": 1,
      "metadata": {
        "colab": {
          "base_uri": "https://localhost:8080/"
        },
        "id": "_7CZxZpg_AjZ",
        "outputId": "6d3bf115-f79c-40d6-9a5e-9e4441f0e119"
      },
      "outputs": [
        {
          "output_type": "stream",
          "name": "stdout",
          "text": [
            "Enter quantity for Product A: 5\n",
            "Is Product A gift wrapped? (y/n): y\n",
            "Enter quantity for Product B: 3\n",
            "Is Product B gift wrapped? (y/n): n\n",
            "Enter quantity for Product C: 3\n",
            "Is Product C gift wrapped? (y/n): y\n",
            "Product: Product A\n",
            "Quantity: 5\n",
            "Total Amount: $100\n",
            "\n",
            "Product: Product B\n",
            "Quantity: 3\n",
            "Total Amount: $120\n",
            "\n",
            "Product: Product C\n",
            "Quantity: 3\n",
            "Total Amount: $150\n",
            "\n",
            "----------------------------\n",
            "Subtotal        :  $370\n",
            "Discount Applied: flat_10_discount ($10)\n",
            "Shipping Fee    : $10\n",
            "Gift Wrap Fee   : $11\n",
            "Total           : $376\n"
          ]
        }
      ],
      "source": [
        "# Catalog\n",
        "catalog = {\n",
        "    \"Product A\": 20,\n",
        "    \"Product B\": 40,\n",
        "    \"Product C\": 50\n",
        "}\n",
        "\n",
        "# Discount Rules\n",
        "discount_rules = {\n",
        "    \"flat_10_discount\": 10,\n",
        "    \"bulk_5_discount\": 0.05,\n",
        "    \"bulk_10_discount\": 0.1,\n",
        "    \"tiered_50_discount\": 0.5\n",
        "}\n",
        "\n",
        "# Fees\n",
        "gift_wrap_fee_per_unit = 1\n",
        "shipping_fee = 5\n",
        "units_per_package = 10\n",
        "\n",
        "# Function to calculate the discount amount\n",
        "def calculate_discount(quantity, price, rule):\n",
        "    if rule == \"flat_10_discount\":\n",
        "        return min(10, quantity * price)\n",
        "    elif rule == \"bulk_5_discount\" and quantity > 10:\n",
        "        return quantity * price * discount_rules[rule]\n",
        "    elif rule == \"bulk_10_discount\" and quantity > 20:\n",
        "        return quantity * price * discount_rules[rule]\n",
        "    elif rule == \"tiered_50_discount\" and quantity > 30:\n",
        "        return (quantity - 15) * price * discount_rules[rule]\n",
        "    else:\n",
        "        return 0\n",
        "\n",
        "# Function to calculate the total cost\n",
        "def calculate_total_cost(cart):\n",
        "    subtotal = 0\n",
        "    discount_name = \"\"\n",
        "    discount_amount = 0\n",
        "    gift_wrap_total = 0\n",
        "\n",
        "    for product, quantity, is_gift_wrapped in cart:\n",
        "        price = catalog[product]\n",
        "        total_amount = quantity * price\n",
        "        subtotal += total_amount\n",
        "\n",
        "        # Check which discount rule is applicable\n",
        "        for rule in discount_rules:\n",
        "            discount = calculate_discount(quantity, price, rule)\n",
        "            if discount > discount_amount:\n",
        "                discount_amount = discount\n",
        "                discount_name = rule\n",
        "\n",
        "        # Add gift wrap fee\n",
        "        gift_wrap_total += quantity * gift_wrap_fee_per_unit\n",
        "\n",
        "        # Calculate shipping fee\n",
        "        packages = (quantity - 1) // units_per_package + 1\n",
        "        shipping_fee_total = packages * shipping_fee\n",
        "\n",
        "        # Output details for each product\n",
        "        print(f\"Product: {product}\\nQuantity: {quantity}\\nTotal Amount: ${total_amount}\\n\")\n",
        "\n",
        "    # Output overall details\n",
        "    print(\"----------------------------\")\n",
        "    print(f\"Subtotal        :  ${subtotal}\")\n",
        "    print(f\"Discount Applied: {discount_name} (${discount_amount})\")\n",
        "    print(f\"Shipping Fee    : ${shipping_fee_total}\")\n",
        "    print(f\"Gift Wrap Fee   : ${gift_wrap_total}\")\n",
        "    print(f\"Total           : ${subtotal - discount_amount + shipping_fee_total + gift_wrap_total}\")\n",
        "\n",
        "# Main program\n",
        "cart = []\n",
        "\n",
        "# Gather product quantity and gift wrap information\n",
        "for product, _ in catalog.items():\n",
        "    quantity = int(input(f\"Enter quantity for {product}: \"))\n",
        "    is_gift_wrapped = input(f\"Is {product} gift wrapped? (y/n): \").lower() == \"y\"\n",
        "    cart.append((product, quantity, is_gift_wrapped))\n",
        "\n",
        "# Calculate and display the total cost\n",
        "calculate_total_cost(cart)"
      ]
    }
  ]
}
